{
 "cells": [
  {
   "cell_type": "markdown",
   "id": "billion-vitamin",
   "metadata": {},
   "source": [
    "## Running the metrics for proof generation"
   ]
  },
  {
   "cell_type": "code",
   "execution_count": null,
   "id": "living-separation",
   "metadata": {},
   "outputs": [],
   "source": [
    "import sys\n",
    "sys.path.append(\"..\")"
   ]
  },
  {
   "cell_type": "code",
   "execution_count": null,
   "id": "unable-birthday",
   "metadata": {},
   "outputs": [],
   "source": [
    "import json\n",
    "import transformers\n",
    "import torch\n",
    "import pickle\n",
    "from tqdm.notebook import tqdm\n",
    "import pandas as pd\n",
    "import glob\n",
    "from pprint import pprint\n",
    "import transformers\n",
    "import os\n",
    "import datasets\n",
    "datasets.logging.set_verbosity(50)\n",
    "transformers.logging.set_verbosity_error()\n",
    "\n",
    "%load_ext autoreload\n",
    "%autoreload 2\n",
    "%pylab inline"
   ]
  },
  {
   "cell_type": "markdown",
   "id": "sensitive-witness",
   "metadata": {},
   "source": [
    "### Data"
   ]
  },
  {
   "cell_type": "code",
   "execution_count": null,
   "id": "adaptive-potato",
   "metadata": {},
   "outputs": [],
   "source": [
    "ds_base = json.load(open(\n",
    "    '../data/base/proofwiki.json'\n",
    "))\n",
    "ds_generations = json.load(open(\n",
    "    '../data/base/proofwiki__refs_ground_truth.json'\n",
    "))\n",
    "redirects = json.load(open(\n",
    "    '../data/base/proofwiki_redirects.json'\n",
    "))"
   ]
  },
  {
   "cell_type": "code",
   "execution_count": null,
   "id": "closed-bacteria",
   "metadata": {},
   "outputs": [],
   "source": [
    "tokenizer = transformers.AutoTokenizer.from_pretrained('facebook/bart-large')"
   ]
  },
  {
   "cell_type": "markdown",
   "id": "piano-preliminary",
   "metadata": {},
   "source": [
    "### Utilities"
   ]
  },
  {
   "cell_type": "code",
   "execution_count": null,
   "id": "framed-session",
   "metadata": {},
   "outputs": [],
   "source": [
    "def get_theorem_ids(split):\n",
    "    import csv\n",
    "    with open('../data/base/core_evalset.tsv') as f:\n",
    "        reader = csv.DictReader(f, delimiter='\\t')\n",
    "        core_evalset = [row for row in reader]\n",
    "        theorem_ids = [int(row['theorem_id']) for row in core_evalset if split == 'both' or row['split'] == split]\n",
    "    return theorem_ids\n",
    "\n",
    "def load_gens(name2gen_files, split=None):\n",
    "    name2gens = {}\n",
    "    for name in name2gen_files:\n",
    "        try:\n",
    "            name2gens[name] = json.load(open(name2gen_files[name]))\n",
    "        except:\n",
    "            try:\n",
    "                name2gens[name] = pickle.load(open(name2gen_files[name], 'rb'))\n",
    "            except:\n",
    "                print(\"skipping %s\" % name)\n",
    "        if split is not None:\n",
    "            theorem_ids = get_theorem_ids(split)\n",
    "            name2gens[name]['full_generations'] = [x for x in name2gens[name]['full_generations'] if x['metadata'][0] in theorem_ids]\n",
    "    return name2gens"
   ]
  },
  {
   "cell_type": "code",
   "execution_count": null,
   "id": "administrative-academy",
   "metadata": {
    "tags": []
   },
   "outputs": [],
   "source": [
    "from npgen.evaluation_proofgen import full_generation_metrics\n",
    "\n",
    "def evaluate(name2gens):    \n",
    "    name2metrics_object = {}\n",
    "    df_data = []\n",
    "    for name, gens in tqdm(name2gens.items(), total=len(name2gens)):\n",
    "        metrics, metrics_object = full_generation_metrics(\n",
    "            gens['full_generations'], \n",
    "            ds_base, \n",
    "            ds_generations,\n",
    "            redirects,\n",
    "            tokenizer, \n",
    "            return_metrics_object=True\n",
    "        )\n",
    "        name, run = name.split('___')\n",
    "        for span in name.split('__'):\n",
    "            if '=' in span:\n",
    "                key, value = span.split('=')\n",
    "                metrics[key] = value\n",
    "        metrics['name'] = name\n",
    "        metrics['run'] = run\n",
    "        df_data.append(metrics)\n",
    "        name2metrics_object[name] = metrics_object\n",
    "\n",
    "    df = pd.DataFrame(df_data)\n",
    "    return df"
   ]
  },
  {
   "cell_type": "code",
   "execution_count": null,
   "id": "alive-liechtenstein",
   "metadata": {},
   "outputs": [],
   "source": [
    "from copy import deepcopy\n",
    "\n",
    "default_cols = ['ppl', 'gleu', 'ref_f1', 'kf1', 'f1', 'corpus_ref_halluc']\n",
    "def display(df, cols=default_cols, sort=None):\n",
    "    df = deepcopy(df)  \n",
    "    if cols is None:\n",
    "        min_cols = ['corpus_ref_halluc', 'ppl']\n",
    "        df_show = df[['run', 'ppl', 'name', 'f1', 'gleu', 'ref_precision', 'ref_recall', 'ref_f1', 'corpus_ref_halluc']]    \n",
    "    else:\n",
    "        min_cols = [c for c in ['corpus_ref_halluc', 'ppl'] if c in cols]\n",
    "        show_cols = cols\n",
    "        df_show = df[['run', 'name'] + show_cols]   \n",
    "\n",
    "    df_show = df_show.groupby('name').mean().round(4)\n",
    "    df_show = df_show.round(2)\n",
    "    if sort is not None:\n",
    "        df_show = df_show.sort_values(sort)\n",
    "\n",
    "    return df_show"
   ]
  },
  {
   "cell_type": "markdown",
   "id": "palestinian-karen",
   "metadata": {},
   "source": [
    "### GPT-3"
   ]
  },
  {
   "cell_type": "code",
   "execution_count": null,
   "id": "agricultural-saturn",
   "metadata": {},
   "outputs": [],
   "source": [
    "split = 'test'\n",
    "\n",
    "name2gen_files = {    \n",
    "    'gpt3___1': '../other/naturalprover_generations/gpt3.pkl',\n",
    "    'naturalprover-retrieve___1': '../other/naturalprover_generations/naturalprover_retrieved.pkl',\n",
    "    'naturalprover___1': '../other/naturalprover_generations/naturalprover.pkl',    \n",
    "    'naturalprover++___1': '../other/naturalprover_generations/naturalprover_plusplus.pkl',\n",
    "}\n",
    "name2gen = load_gens(name2gen_files, split=split)\n",
    "df = evaluate(name2gen)\n",
    "display(df, cols=['gleu', 'f1', 'kf1', 'ref_precision', 'ref_recall', 'ref_f1', 'corpus_ref_halluc'], sort='ref_f1')"
   ]
  },
  {
   "cell_type": "markdown",
   "id": "patient-trial",
   "metadata": {},
   "source": [
    "### GPT-J/2"
   ]
  },
  {
   "cell_type": "code",
   "execution_count": null,
   "id": "durable-elite",
   "metadata": {},
   "outputs": [],
   "source": [
    "split='valid'\n",
    "name2gen_files = {    \n",
    "    'gpt3curie-greedy___1': '../other/naturalprover_generations/naturalprover.pkl',\n",
    "    'gptj6b-greedy___1': '../other/naturalprover_generations/naturalprover_gptj6b.json',\n",
    "    'gpt2-greedy___1': '../other/naturalprover_generations/naturalprover_gpt2.json',\n",
    "}\n",
    "name2gen = load_gens(name2gen_files, split=split)\n",
    "df = evaluate(name2gen)\n",
    "display(df, cols=['gleu', 'ref_f1', 'corpus_ref_halluc'], sort='ref_f1')"
   ]
  },
  {
   "cell_type": "code",
   "execution_count": null,
   "id": "centered-drilling",
   "metadata": {},
   "outputs": [],
   "source": []
  }
 ],
 "metadata": {
  "kernelspec": {
   "display_name": "Python 3",
   "language": "python",
   "name": "python3"
  },
  "language_info": {
   "codemirror_mode": {
    "name": "ipython",
    "version": 3
   },
   "file_extension": ".py",
   "mimetype": "text/x-python",
   "name": "python",
   "nbconvert_exporter": "python",
   "pygments_lexer": "ipython3",
   "version": "3.8.10"
  }
 },
 "nbformat": 4,
 "nbformat_minor": 5
}
