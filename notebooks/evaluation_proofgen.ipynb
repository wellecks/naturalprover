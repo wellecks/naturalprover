{
 "cells": [
  {
   "cell_type": "markdown",
   "id": "serious-beginning",
   "metadata": {},
   "source": [
    "## Running the metrics for proof generation"
   ]
  },
  {
   "cell_type": "code",
   "execution_count": 1,
   "id": "alternate-federation",
   "metadata": {},
   "outputs": [],
   "source": [
    "import sys\n",
    "sys.path.append(\"..\")"
   ]
  },
  {
   "cell_type": "code",
   "execution_count": 2,
   "id": "fabulous-florence",
   "metadata": {},
   "outputs": [
    {
     "name": "stdout",
     "output_type": "stream",
     "text": [
      "Populating the interactive namespace from numpy and matplotlib\n"
     ]
    }
   ],
   "source": [
    "import json\n",
    "import transformers\n",
    "import torch\n",
    "import pickle\n",
    "from tqdm.notebook import tqdm\n",
    "import pandas as pd\n",
    "import glob\n",
    "from pprint import pprint\n",
    "import transformers\n",
    "import os\n",
    "import datasets\n",
    "datasets.logging.set_verbosity(50)\n",
    "transformers.logging.set_verbosity_error()\n",
    "\n",
    "%load_ext autoreload\n",
    "%autoreload 2\n",
    "%pylab inline"
   ]
  },
  {
   "cell_type": "markdown",
   "id": "corresponding-relative",
   "metadata": {},
   "source": [
    "### Data"
   ]
  },
  {
   "cell_type": "code",
   "execution_count": 3,
   "id": "superb-lucas",
   "metadata": {},
   "outputs": [],
   "source": [
    "ds_base = json.load(open(\n",
    "    '../data/base/proofwiki.json'\n",
    "))\n",
    "ds_generations = json.load(open(\n",
    "    '../data/base/proofwiki__refs_ground_truth.json'\n",
    "))\n",
    "redirects = json.load(open(\n",
    "    '../data/base/proofwiki_redirects.json'\n",
    "))"
   ]
  },
  {
   "cell_type": "code",
   "execution_count": 4,
   "id": "secure-tobago",
   "metadata": {},
   "outputs": [],
   "source": [
    "tokenizer = transformers.AutoTokenizer.from_pretrained('facebook/bart-large')"
   ]
  },
  {
   "cell_type": "markdown",
   "id": "spatial-heaven",
   "metadata": {},
   "source": [
    "### Utilities"
   ]
  },
  {
   "cell_type": "code",
   "execution_count": 5,
   "id": "impaired-fellow",
   "metadata": {},
   "outputs": [],
   "source": [
    "def get_theorem_ids(split):\n",
    "    import csv\n",
    "    with open('../data/base/core_evalset.tsv') as f:\n",
    "        reader = csv.DictReader(f, delimiter='\\t')\n",
    "        core_evalset = [row for row in reader]\n",
    "        theorem_ids = [int(row['theorem_id']) for row in core_evalset if split == 'both' or row['split'] == split]\n",
    "    return theorem_ids\n",
    "\n",
    "def load_gens(name2gen_files, split=None):\n",
    "    name2gens = {}\n",
    "    for name in name2gen_files:\n",
    "        try:\n",
    "            name2gens[name] = json.load(open(name2gen_files[name]))\n",
    "        except:\n",
    "            try:\n",
    "                name2gens[name] = pickle.load(open(name2gen_files[name], 'rb'))\n",
    "            except:\n",
    "                print(\"skipping %s\" % name)\n",
    "        if split is not None:\n",
    "            theorem_ids = get_theorem_ids(split)\n",
    "            name2gens[name]['full_generations'] = [x for x in name2gens[name]['full_generations'] if x['metadata'][0] in theorem_ids]\n",
    "    return name2gens"
   ]
  },
  {
   "cell_type": "code",
   "execution_count": 6,
   "id": "marine-withdrawal",
   "metadata": {
    "tags": []
   },
   "outputs": [],
   "source": [
    "from npgen.evaluation_proofgen import full_generation_metrics\n",
    "\n",
    "def evaluate(name2gens):    \n",
    "    name2metrics_object = {}\n",
    "    df_data = []\n",
    "    for name, gens in tqdm(name2gens.items(), total=len(name2gens)):\n",
    "        metrics, metrics_object = full_generation_metrics(\n",
    "            gens['full_generations'], \n",
    "            ds_base, \n",
    "            ds_generations,\n",
    "            redirects,\n",
    "            tokenizer, \n",
    "            return_metrics_object=True\n",
    "        )\n",
    "        name, run = name.split('___')\n",
    "        for span in name.split('__'):\n",
    "            if '=' in span:\n",
    "                key, value = span.split('=')\n",
    "                metrics[key] = value\n",
    "        metrics['name'] = name\n",
    "        metrics['run'] = run\n",
    "        df_data.append(metrics)\n",
    "        name2metrics_object[name] = metrics_object\n",
    "\n",
    "    df = pd.DataFrame(df_data)\n",
    "    return df"
   ]
  },
  {
   "cell_type": "code",
   "execution_count": 7,
   "id": "express-attempt",
   "metadata": {},
   "outputs": [],
   "source": [
    "from copy import deepcopy\n",
    "\n",
    "default_cols = ['ppl', 'gleu', 'ref_f1', 'kf1', 'f1', 'corpus_ref_halluc']\n",
    "def display(df, cols=default_cols, sort=None):\n",
    "    df = deepcopy(df)  \n",
    "    if cols is None:\n",
    "        min_cols = ['corpus_ref_halluc', 'ppl']\n",
    "        df_show = df[['run', 'ppl', 'name', 'f1', 'gleu', 'ref_precision', 'ref_recall', 'ref_f1', 'corpus_ref_halluc']]    \n",
    "    else:\n",
    "        min_cols = [c for c in ['corpus_ref_halluc', 'ppl'] if c in cols]\n",
    "        show_cols = cols\n",
    "        df_show = df[['run', 'name'] + show_cols]   \n",
    "\n",
    "    df_show = df_show.groupby('name').mean().round(4)\n",
    "    df_show = df_show.round(2)\n",
    "    if sort is not None:\n",
    "        df_show = df_show.sort_values(sort)\n",
    "\n",
    "    return df_show"
   ]
  },
  {
   "cell_type": "markdown",
   "id": "accepted-forty",
   "metadata": {},
   "source": [
    "### GPT-3"
   ]
  },
  {
   "cell_type": "code",
   "execution_count": null,
   "id": "collective-sally",
   "metadata": {},
   "outputs": [],
   "source": [
    "split = 'test'\n",
    "\n",
    "name2gen_files = {    \n",
    "    'gpt3___1': '../other/naturalprover_generations/gpt3.pkl',\n",
    "    'naturalprover-retrieve___1': '../other/naturalprover_generations/naturalprover_retrieved.pkl',\n",
    "    'naturalprover___1': '../other/naturalprover_generations/naturalprover.pkl',    \n",
    "    'naturalprover++___1': '../other/naturalprover_generations/naturalprover_plusplus.pkl',\n",
    "}\n",
    "name2gen = load_gens(name2gen_files, split=split)\n",
    "df = evaluate(name2gen)"
   ]
  },
  {
   "cell_type": "code",
   "execution_count": 9,
   "id": "unsigned-presentation",
   "metadata": {},
   "outputs": [
    {
     "data": {
      "text/html": [
       "<div>\n",
       "<style scoped>\n",
       "    .dataframe tbody tr th:only-of-type {\n",
       "        vertical-align: middle;\n",
       "    }\n",
       "\n",
       "    .dataframe tbody tr th {\n",
       "        vertical-align: top;\n",
       "    }\n",
       "\n",
       "    .dataframe thead th {\n",
       "        text-align: right;\n",
       "    }\n",
       "</style>\n",
       "<table border=\"1\" class=\"dataframe\">\n",
       "  <thead>\n",
       "    <tr style=\"text-align: right;\">\n",
       "      <th></th>\n",
       "      <th>gleu</th>\n",
       "      <th>f1</th>\n",
       "      <th>kf1</th>\n",
       "      <th>ref_precision</th>\n",
       "      <th>ref_recall</th>\n",
       "      <th>ref_f1</th>\n",
       "      <th>corpus_ref_halluc</th>\n",
       "    </tr>\n",
       "    <tr>\n",
       "      <th>name</th>\n",
       "      <th></th>\n",
       "      <th></th>\n",
       "      <th></th>\n",
       "      <th></th>\n",
       "      <th></th>\n",
       "      <th></th>\n",
       "      <th></th>\n",
       "    </tr>\n",
       "  </thead>\n",
       "  <tbody>\n",
       "    <tr>\n",
       "      <th>gpt3</th>\n",
       "      <td>24.40</td>\n",
       "      <td>49.96</td>\n",
       "      <td>49.30</td>\n",
       "      <td>29.93</td>\n",
       "      <td>24.73</td>\n",
       "      <td>23.69</td>\n",
       "      <td>17.92</td>\n",
       "    </tr>\n",
       "    <tr>\n",
       "      <th>naturalprover-retrieve</th>\n",
       "      <td>26.58</td>\n",
       "      <td>53.02</td>\n",
       "      <td>55.88</td>\n",
       "      <td>38.17</td>\n",
       "      <td>28.48</td>\n",
       "      <td>27.10</td>\n",
       "      <td>2.25</td>\n",
       "    </tr>\n",
       "    <tr>\n",
       "      <th>naturalprover</th>\n",
       "      <td>35.27</td>\n",
       "      <td>66.00</td>\n",
       "      <td>90.07</td>\n",
       "      <td>93.05</td>\n",
       "      <td>86.05</td>\n",
       "      <td>87.08</td>\n",
       "      <td>1.60</td>\n",
       "    </tr>\n",
       "    <tr>\n",
       "      <th>naturalprover++</th>\n",
       "      <td>34.49</td>\n",
       "      <td>65.61</td>\n",
       "      <td>96.39</td>\n",
       "      <td>94.66</td>\n",
       "      <td>95.00</td>\n",
       "      <td>93.92</td>\n",
       "      <td>1.71</td>\n",
       "    </tr>\n",
       "  </tbody>\n",
       "</table>\n",
       "</div>"
      ],
      "text/plain": [
       "                         gleu     f1    kf1  ref_precision  ref_recall  \\\n",
       "name                                                                     \n",
       "gpt3                    24.40  49.96  49.30          29.93       24.73   \n",
       "naturalprover-retrieve  26.58  53.02  55.88          38.17       28.48   \n",
       "naturalprover           35.27  66.00  90.07          93.05       86.05   \n",
       "naturalprover++         34.49  65.61  96.39          94.66       95.00   \n",
       "\n",
       "                        ref_f1  corpus_ref_halluc  \n",
       "name                                               \n",
       "gpt3                     23.69              17.92  \n",
       "naturalprover-retrieve   27.10               2.25  \n",
       "naturalprover            87.08               1.60  \n",
       "naturalprover++          93.92               1.71  "
      ]
     },
     "execution_count": 9,
     "metadata": {},
     "output_type": "execute_result"
    }
   ],
   "source": [
    "display(df, cols=['gleu', 'f1', 'kf1', 'ref_precision', 'ref_recall', 'ref_f1', 'corpus_ref_halluc'], sort='ref_f1')"
   ]
  },
  {
   "cell_type": "markdown",
   "id": "developed-albania",
   "metadata": {},
   "source": [
    "### GPT-J/2"
   ]
  },
  {
   "cell_type": "code",
   "execution_count": null,
   "id": "cubic-bouquet",
   "metadata": {},
   "outputs": [],
   "source": [
    "split='valid'\n",
    "name2gen_files = {    \n",
    "    'gpt3curie-greedy___1': '../other/naturalprover_generations/naturalprover.pkl',\n",
    "    'gpt2-greedy___1': '../other/naturalprover_generations/naturalprover_gpt2.json',\n",
    "    'gptj6b-greedy___1': '../other/naturalprover_generations/naturalprover_gptj6b.json',\n",
    "    'gptj6b-select10___1': '../other/naturalprover_generations/naturalprover_gptj6b_select10.json',\n",
    "}\n",
    "name2gen = load_gens(name2gen_files, split=split)\n",
    "df = evaluate(name2gen)"
   ]
  },
  {
   "cell_type": "code",
   "execution_count": 11,
   "id": "abandoned-alaska",
   "metadata": {},
   "outputs": [
    {
     "data": {
      "text/html": [
       "<div>\n",
       "<style scoped>\n",
       "    .dataframe tbody tr th:only-of-type {\n",
       "        vertical-align: middle;\n",
       "    }\n",
       "\n",
       "    .dataframe tbody tr th {\n",
       "        vertical-align: top;\n",
       "    }\n",
       "\n",
       "    .dataframe thead th {\n",
       "        text-align: right;\n",
       "    }\n",
       "</style>\n",
       "<table border=\"1\" class=\"dataframe\">\n",
       "  <thead>\n",
       "    <tr style=\"text-align: right;\">\n",
       "      <th></th>\n",
       "      <th>gleu</th>\n",
       "      <th>ref_f1</th>\n",
       "      <th>corpus_ref_halluc</th>\n",
       "    </tr>\n",
       "    <tr>\n",
       "      <th>name</th>\n",
       "      <th></th>\n",
       "      <th></th>\n",
       "      <th></th>\n",
       "    </tr>\n",
       "  </thead>\n",
       "  <tbody>\n",
       "    <tr>\n",
       "      <th>gpt2-greedy</th>\n",
       "      <td>32.06</td>\n",
       "      <td>65.22</td>\n",
       "      <td>6.76</td>\n",
       "    </tr>\n",
       "    <tr>\n",
       "      <th>gptj6b-greedy</th>\n",
       "      <td>38.58</td>\n",
       "      <td>79.19</td>\n",
       "      <td>2.96</td>\n",
       "    </tr>\n",
       "    <tr>\n",
       "      <th>gptj6b-select10</th>\n",
       "      <td>37.83</td>\n",
       "      <td>88.80</td>\n",
       "      <td>4.84</td>\n",
       "    </tr>\n",
       "    <tr>\n",
       "      <th>gpt3curie-greedy</th>\n",
       "      <td>42.39</td>\n",
       "      <td>89.29</td>\n",
       "      <td>1.90</td>\n",
       "    </tr>\n",
       "  </tbody>\n",
       "</table>\n",
       "</div>"
      ],
      "text/plain": [
       "                   gleu  ref_f1  corpus_ref_halluc\n",
       "name                                              \n",
       "gpt2-greedy       32.06   65.22               6.76\n",
       "gptj6b-greedy     38.58   79.19               2.96\n",
       "gptj6b-select10   37.83   88.80               4.84\n",
       "gpt3curie-greedy  42.39   89.29               1.90"
      ]
     },
     "execution_count": 11,
     "metadata": {},
     "output_type": "execute_result"
    }
   ],
   "source": [
    "display(df, cols=['gleu', 'ref_f1', 'corpus_ref_halluc'], sort='ref_f1')"
   ]
  },
  {
   "cell_type": "markdown",
   "id": "satisfied-silly",
   "metadata": {},
   "source": [
    "### Example theorem and generated proof \n",
    "\n",
    "(GPTJ-6B with sample-and-select; constraint value function; 10 samples)"
   ]
  },
  {
   "cell_type": "code",
   "execution_count": 15,
   "id": "efficient-shareware",
   "metadata": {},
   "outputs": [
    {
     "name": "stdout",
     "output_type": "stream",
     "text": [
      "Integers under Multiplication form Countably Infinite Semigroup\n",
      "\n",
      "The [[Definition:Set|set]] of [[Definition:Integer|integers]] under [[Definition:Integer Multiplication|multiplication]] $\\struct {\\Z, \\times}$ is a [[Definition:Countably Infinite Set|countably infinite]] [[Definition:Semigroup|semigroup]].\n",
      "\n",
      "From [[Integers under Multiplication form Semigroup]], $\\struct {\\Z, \\times}$ is a [[Definition:Semigroup|semigroup]].\n",
      "From [[Integers are Countably Infinite]], $\\struct {\\Z, \\times}$ is [[Definition:Countably Infinite Set|countably infinite]].\n",
      "{{qed}}\n"
     ]
    }
   ],
   "source": [
    "import json\n",
    "data = json.load(open('../other/naturalprover_generations/naturalprover_gptj6b_select10.json'))\n",
    "\n",
    "index = 2565\n",
    "\n",
    "proofwiki = json.load(open('../data/base/proofwiki.json'))\n",
    "theorem = proofwiki['dataset']['theorems'][index]\n",
    "generated_proof = [proof for proof in data['full_generations'] if proof['metadata'][0] == 2565][0]\n",
    "\n",
    "text = '\\n\\n'.join([theorem['title'], '\\n'.join(theorem['contents']), generated_proof['y']]).replace('\\\\n', '\\n')\n",
    "\n",
    "print(text)"
   ]
  },
  {
   "cell_type": "code",
   "execution_count": null,
   "id": "pleased-longer",
   "metadata": {},
   "outputs": [],
   "source": []
  }
 ],
 "metadata": {
  "kernelspec": {
   "display_name": "Python 3",
   "language": "python",
   "name": "python3"
  },
  "language_info": {
   "codemirror_mode": {
    "name": "ipython",
    "version": 3
   },
   "file_extension": ".py",
   "mimetype": "text/x-python",
   "name": "python",
   "nbconvert_exporter": "python",
   "pygments_lexer": "ipython3",
   "version": "3.8.5"
  }
 },
 "nbformat": 4,
 "nbformat_minor": 5
}
